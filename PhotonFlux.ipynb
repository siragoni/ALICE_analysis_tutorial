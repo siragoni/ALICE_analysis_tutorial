{
 "cells": [
  {
   "cell_type": "markdown",
   "metadata": {},
   "source": [
    "## Computing the photon flux\n",
    "\n",
    "This script aims to compute the photon flux for Pb-p in 2016."
   ]
  },
  {
   "cell_type": "code",
   "execution_count": 1,
   "metadata": {},
   "outputs": [],
   "source": [
    "import scipy.integrate as integrate"
   ]
  },
  {
   "cell_type": "code",
   "execution_count": 2,
   "metadata": {},
   "outputs": [],
   "source": [
    "import scipy.special as special"
   ]
  },
  {
   "cell_type": "code",
   "execution_count": 3,
   "metadata": {},
   "outputs": [],
   "source": [
    "import numpy as np"
   ]
  },
  {
   "cell_type": "markdown",
   "metadata": {},
   "source": [
    "#### Photon flux formula\n",
    "\n",
    "The formula of the photon flux is taken from Adam's PhD thesis:\n",
    "\n",
    "$$N(k) = \\frac{2{\\cdot}Z_1^2{\\cdot}\\alpha_{EM}}{\\pi\\beta^2}\\cdot\\left[ \\epsilon K_0(\\epsilon)K_1(\\epsilon) - 0.5\\epsilon^2\\left( K_1^2\\epsilon - K_0^2\\epsilon \\right) \\right]$$"
   ]
  },
  {
   "cell_type": "code",
   "execution_count": 17,
   "metadata": {},
   "outputs": [
    {
     "data": {
      "text/plain": [
       "5020"
      ]
     },
     "execution_count": 17,
     "metadata": {},
     "output_type": "execute_result"
    }
   ],
   "source": [
    "bMin      = 1 + 1.2 * np.cbrt(208)\n",
    "E         = 5.02 * 208 \n",
    "# GammaBeta = E/0.208\n",
    "GammaBeta = 5020\n",
    "GammaBeta\n",
    "# E"
   ]
  },
  {
   "cell_type": "markdown",
   "metadata": {},
   "source": [
    "#### Photon flux formula: derivative\n",
    "\n",
    "Now I take Adam's formula and compute the derivative with respect to the photon energy $k$.\n",
    "However, the first term is the most important, so I can approximate it as ( $^1$ denotes first derivative):\n",
    "\n",
    "$$k{\\cdot}\\frac{dN(k)}{dk} = \\frac{2{\\cdot}Z_1^2{\\cdot}\\alpha_{EM}}{\\pi\\beta^2}\\cdot\\left[ \\epsilon K_0(\\epsilon)K_1(\\epsilon) + \\epsilon^2 K_0^1(\\epsilon)K_1(\\epsilon) + \\epsilon^2 K_0(\\epsilon)K_1^1(\\epsilon) \\right]$$"
   ]
  },
  {
   "cell_type": "markdown",
   "metadata": {},
   "source": [
    "### Photon energy\n",
    "\n",
    "It holds: $k = \\frac{3.1 GeV}{2}\\cdot\\exp(\\pm y)$"
   ]
  },
  {
   "cell_type": "code",
   "execution_count": 101,
   "metadata": {},
   "outputs": [
    {
     "data": {
      "text/plain": [
       "34.406824486234534"
      ]
     },
     "execution_count": 101,
     "metadata": {},
     "output_type": "execute_result"
    }
   ],
   "source": [
    "PhotonEnergy = 1.55 * np.exp(3.1)\n",
    "PhotonEnergy"
   ]
  },
  {
   "cell_type": "code",
   "execution_count": 102,
   "metadata": {},
   "outputs": [
    {
     "data": {
      "text/plain": [
       "0.05558546253519521"
      ]
     },
     "execution_count": 102,
     "metadata": {},
     "output_type": "execute_result"
    }
   ],
   "source": [
    "epsilon = PhotonEnergy * bMin / GammaBeta\n",
    "epsilon"
   ]
  },
  {
   "cell_type": "code",
   "execution_count": 103,
   "metadata": {},
   "outputs": [
    {
     "data": {
      "text/plain": [
       "31.246405838486655"
      ]
     },
     "execution_count": 103,
     "metadata": {},
     "output_type": "execute_result"
    }
   ],
   "source": [
    "Multiplicative = 2 * 82 * 82 / (137 * 3.1415) \n",
    "Multiplicative"
   ]
  },
  {
   "cell_type": "markdown",
   "metadata": {},
   "source": [
    "It holds:\n",
    "\n",
    "$$First = \\epsilon K_0(\\epsilon)K_1(\\epsilon)$$"
   ]
  },
  {
   "cell_type": "code",
   "execution_count": 104,
   "metadata": {},
   "outputs": [
    {
     "data": {
      "text/plain": [
       "2.9925564621572054"
      ]
     },
     "execution_count": 104,
     "metadata": {},
     "output_type": "execute_result"
    }
   ],
   "source": [
    "FirstAddendum = epsilon*special.kv(0, epsilon)*special.kv(1, epsilon)\n",
    "FirstAddendum"
   ]
  },
  {
   "cell_type": "markdown",
   "metadata": {},
   "source": [
    "It holds:\n",
    "\n",
    "$$Second = \\epsilon^2 K_0^1(\\epsilon)K_1(\\epsilon)$$"
   ]
  },
  {
   "cell_type": "code",
   "execution_count": 105,
   "metadata": {},
   "outputs": [
    {
     "data": {
      "text/plain": [
       "-0.9891923655119338"
      ]
     },
     "execution_count": 105,
     "metadata": {},
     "output_type": "execute_result"
    }
   ],
   "source": [
    "SecondAddendum = epsilon*epsilon*special.kvp(0, epsilon, 1)*special.kv(1, epsilon)\n",
    "SecondAddendum"
   ]
  },
  {
   "cell_type": "markdown",
   "metadata": {},
   "source": [
    "It holds:\n",
    "\n",
    "$$Third = \\epsilon^2 K_0(\\epsilon)K_1^1(\\epsilon)$$"
   ]
  },
  {
   "cell_type": "code",
   "execution_count": 106,
   "metadata": {},
   "outputs": [
    {
     "data": {
      "text/plain": [
       "-3.0205286475688697"
      ]
     },
     "execution_count": 106,
     "metadata": {},
     "output_type": "execute_result"
    }
   ],
   "source": [
    "ThirdAddendum = epsilon*epsilon*special.kv(0, epsilon)*special.kvp(1, epsilon, 1)\n",
    "ThirdAddendum"
   ]
  },
  {
   "cell_type": "code",
   "execution_count": 107,
   "metadata": {},
   "outputs": [],
   "source": [
    "kTimesDNDk =  Multiplicative * float(FirstAddendum + SecondAddendum + ThirdAddendum)"
   ]
  },
  {
   "cell_type": "code",
   "execution_count": 108,
   "metadata": {},
   "outputs": [
    {
     "data": {
      "text/plain": [
       "-31.78273636268077"
      ]
     },
     "execution_count": 108,
     "metadata": {},
     "output_type": "execute_result"
    }
   ],
   "source": [
    "kTimesDNDk"
   ]
  },
  {
   "cell_type": "markdown",
   "metadata": {},
   "source": [
    "#### Photon flux formula: derivative\n",
    "\n",
    "Now I take Adam's formula and compute the derivative with respect to the photon energy $k$.\n",
    "Now without approximating ( $^1$ denotes first derivative):\n",
    "\n",
    "$$k{\\cdot}\\frac{dN(k)}{dk} = \\frac{2{\\cdot}Z_1^2{\\cdot}\\alpha_{EM}}{\\pi\\beta^2}\\cdot\\left[ \\epsilon K_0(\\epsilon)K_1(\\epsilon) + \\epsilon^2 K_0^1(\\epsilon)K_1(\\epsilon) + \\epsilon^2 K_0(\\epsilon)K_1^1(\\epsilon) - \\left[ \\epsilon^2( K_1K_1\\epsilon - K_0K_0\\epsilon ) + 0.5\\epsilon^3\\left( K_1^2 + 2K_1K_1^1\\epsilon - K_0^2 - 2\\epsilon K_0 K_0^1 \\right) \\right]\\right]$$"
   ]
  },
  {
   "cell_type": "code",
   "execution_count": 109,
   "metadata": {},
   "outputs": [
    {
     "data": {
      "text/plain": [
       "0.08014480246355568"
      ]
     },
     "execution_count": 109,
     "metadata": {},
     "output_type": "execute_result"
    }
   ],
   "source": [
    "FourthAddendum = 1.5*epsilon*epsilon*epsilon*(special.kv(1, epsilon)*special.kv(1, epsilon) - special.kv(0, epsilon)*special.kv(0, epsilon) )\n",
    "FourthAddendum"
   ]
  },
  {
   "cell_type": "code",
   "execution_count": 110,
   "metadata": {},
   "outputs": [
    {
     "data": {
      "text/plain": [
       "0.05498471517326473"
      ]
     },
     "execution_count": 110,
     "metadata": {},
     "output_type": "execute_result"
    }
   ],
   "source": [
    "FifthAddendum = epsilon*epsilon*epsilon*epsilon*( special.kv(0, epsilon)*special.kvp(0, epsilon, 1) - special.kv(1, epsilon)*special.kvp(1, epsilon, 1) ) \n",
    "FifthAddendum"
   ]
  },
  {
   "cell_type": "code",
   "execution_count": 111,
   "metadata": {},
   "outputs": [],
   "source": [
    "kTimesDNDkComplete =  Multiplicative * float(FirstAddendum + SecondAddendum + ThirdAddendum - FourthAddendum - FifthAddendum)"
   ]
  },
  {
   "cell_type": "code",
   "execution_count": 112,
   "metadata": {},
   "outputs": [
    {
     "data": {
      "text/plain": [
       "-36.0050481115198"
      ]
     },
     "execution_count": 112,
     "metadata": {},
     "output_type": "execute_result"
    }
   ],
   "source": [
    "kTimesDNDkComplete"
   ]
  },
  {
   "cell_type": "code",
   "execution_count": null,
   "metadata": {},
   "outputs": [],
   "source": []
  },
  {
   "cell_type": "code",
   "execution_count": null,
   "metadata": {},
   "outputs": [],
   "source": []
  },
  {
   "cell_type": "code",
   "execution_count": null,
   "metadata": {},
   "outputs": [],
   "source": []
  },
  {
   "cell_type": "code",
   "execution_count": null,
   "metadata": {},
   "outputs": [],
   "source": []
  }
 ],
 "metadata": {
  "kernelspec": {
   "display_name": "Python 3",
   "language": "python",
   "name": "python3"
  },
  "language_info": {
   "codemirror_mode": {
    "name": "ipython",
    "version": 3
   },
   "file_extension": ".py",
   "mimetype": "text/x-python",
   "name": "python",
   "nbconvert_exporter": "python",
   "pygments_lexer": "ipython3",
   "version": "3.7.4"
  }
 },
 "nbformat": 4,
 "nbformat_minor": 2
}
